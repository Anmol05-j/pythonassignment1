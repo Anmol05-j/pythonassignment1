{
 "cells": [
  {
   "cell_type": "code",
   "execution_count": null,
   "id": "8b36aae8-1406-4364-9212-cece899084bf",
   "metadata": {
    "jupyter": {
     "source_hidden": true
    }
   },
   "outputs": [],
   "source": [
    "# Exercise 1: ARITHMETIC OPERATIONS\n",
    "\n",
    "num1 = int(input(\"Enter the number1: \"))\n",
    "num2 = int(input(\"Enter the number 2: \"))\n",
    "\n",
    "#operations:\n",
    "addition = num1 + num2  \n",
    "subtraction = num1 - num2  \n",
    "multiplication = num1 * num2\n",
    "division = num1 / num2  \n",
    "modulus = num1 % num2\n",
    "exponentiation = num1 ** num2\n",
    "floor_division = num1 // num2\n",
    "#printing the operations\n",
    "print(\"The addition of the entered numbers is:\", addition)\n",
    "print(\"The subtraction of the entered numbers is:\", subtraction)\n",
    "print(\"The multiplication of the entered numbers is:\", multiplication)\n",
    "print(\"The division of the entered numbers is:\", division)\n",
    "print(\"The modulus of the entered numbers is:\", modulus)\n",
    "print(\"The floor division of the entered numbers is:\", floor_division)"
   ]
  },
  {
   "cell_type": "code",
   "execution_count": null,
   "id": "99ca6d39-022d-4c38-b7b2-16be5dddcf88",
   "metadata": {},
   "outputs": [],
   "source": [
    "# Exercise 2: COMPARISION OPERATORS\n",
    "\n",
    "num1 = int(input(\"Enter your first number: \"))\n",
    "num2 = int(input(\"Enter your second number: \"))\n",
    "\n",
    "#Comparisions using conditional statements\n",
    "\n",
    "if num1 > num2:  \n",
    "    print(\"The first number is greater than the second\")\n",
    "elif num1 == num2:  \n",
    "    print(\"The first number is equal to second\")\n",
    "elif num1 <= num2:  \n",
    "    print(\"The first number is less than second\")"
   ]
  },
  {
   "cell_type": "code",
   "execution_count": null,
   "id": "2a50b146-801c-4c80-9e80-f4e581337fd2",
   "metadata": {},
   "outputs": [],
   "source": [
    "# Exercise 3: BOOLEAN VALUES\n",
    "\n",
    "# Getting the first boolean value and making sure to handle case sensitivity.\n",
    "boolean1 = input(\"Enter the value of the first boolean (True or False): \").strip().lower() == 'true'  # Stripping whitespace and converting to lowercase\n",
    "boolean2 = input(\"Enter the value of the second boolean (True or False): \").strip().lower() == 'true'\n",
    "boolean3 = input(\"Enter the value of the third boolean (True or False): \").strip().lower() == 'true'\n",
    "\n",
    "#Using operators \n",
    "and_operator = boolean1 and boolean2 and boolean3\n",
    "or_operator = boolean1 or boolean2 or boolean3\n",
    "\n",
    "# Applying the NOT operator to invert the boolean values.\n",
    "not1_operator = not boolean1  # This will be True if boolean1 is False\n",
    "not2_operator = not boolean2  # This will be True if boolean2 is False\n",
    "not3_operator = not boolean3  # This will be True if boolean3 is False\n",
    "\n",
    "#printing values\n",
    "print(\"Result of AND operator of all the three boolean values: \", and_operator)\n",
    "print(\"Result of OR operator of all the three boolean values: \", or_operator)\n",
    "print(\"Result of NOT operator of the first boolean value: \", not1_operator)\n",
    "print(\"Result of NOT operator of the second boolean value: \", not2_operator)\n",
    "print(\"Result of NOT operator of the third boolean value: \", not3_operator)"
   ]
  },
  {
   "cell_type": "code",
   "execution_count": null,
   "id": "acf3895d-ca76-484c-bb32-e98ffff37032",
   "metadata": {},
   "outputs": [],
   "source": [
    "# Part 2 STRINGS, EXERCISE 4: STRING MANIPULATION\n",
    "\n",
    "string = str(input(\"Enter a string: \"))  \n",
    "print(\"The length of the string is \", len(string))\n",
    "print(\"First character of the string is: \", string[0])\n",
    "print(\"Last character of the string is: \", string[-1])\n",
    "print(\"The string in reverse order is: \", string[::-1])\n",
    "print(\"The string in uppercase is: \", string.upper())\n",
    "print(\"The string in lowercase is: \", string.lower())"
   ]
  },
  {
   "cell_type": "code",
   "execution_count": null,
   "id": "04f1fd6c-a20d-4c41-b73c-2c54d93c739d",
   "metadata": {},
   "outputs": [],
   "source": [
    "# EXERCISE 5: STRING FORMATTING\n",
    "\n",
    "Name = input(\"Enter your name: \")  \n",
    "Age = int(input(\"Enter your age: \"))  \n",
    "\n",
    "# using f-string to print and enter the variable user input using curly braces\n",
    "print(f\"Hello {Name}, you are {Age} years old\")  "
   ]
  },
  {
   "cell_type": "code",
   "execution_count": null,
   "id": "bb19a6ac-d314-4471-a4c0-5ae786d43209",
   "metadata": {},
   "outputs": [],
   "source": [
    "# EXERCISE 6: SUBSTRING SEARCH\n",
    "\n",
    "string = input(\"Enter a sentence: \")  \n",
    "desired_word = input(\"Enter the word you want to search: \")  \n",
    "\n",
    "counter = 0\n",
    "for word in string.split():  \n",
    "    if word == desired_word: \n",
    "        counter += 1  #stopping the loop\n",
    "\n",
    "\n",
    "if counter > 0:\n",
    "    print(f\"The word '{desired_word}' is in the sentence and appears {counter} times.\")  \n",
    "else:\n",
    "    print(f\"The word '{desired_word}' does not exist in the sentence.\") \n",
    "\n"
   ]
  },
  {
   "cell_type": "code",
   "execution_count": null,
   "id": "c4e4fde0-0273-4f95-858f-6d0b9a3ee2ff",
   "metadata": {},
   "outputs": [],
   "source": [
    "# EXERCISE 7: List operations\n",
    "numbers = []\n",
    "for i in range(5):\n",
    "    num = float(input(f\"Enter number {i + 1}: \"))  \n",
    "    numbers.append(num)  \n",
    "\n",
    "total_sum = sum(numbers)  \n",
    "greatest_number = max(numbers)  \n",
    "smallest_number = min(numbers) \n",
    "\n",
    "# Printing the results\n",
    "print(f\"The greatest number out of them all is {greatest_number}.\")\n",
    "print(f\"The smallest number of them all is {smallest_number}.\")\n"
   ]
  },
  {
   "cell_type": "code",
   "execution_count": null,
   "id": "502beae2-915a-420b-a2d9-cbdc4564d032",
   "metadata": {},
   "outputs": [],
   "source": [
    "# EXERCISE 8: LIST MANIPULATION\n",
    "\n",
    "fruits = ['apple', 'banana', 'strawberry', 'cranberry', 'cherry']\n",
    "fruits.append('dragonfruit')\n",
    "print(\"Fruits after adding dragonfruit:\", fruits)\n",
    "del fruits[1]  \n",
    "#printing the updated list\n",
    "print(\"The updated fruit list is:\", fruits)"
   ]
  },
  {
   "cell_type": "code",
   "execution_count": null,
   "id": "79fc52dd-ed7e-4e31-bb3f-20be1005d826",
   "metadata": {},
   "outputs": [],
   "source": [
    "# EXERCISE 9: SORTING A LIST\n",
    "#taking user inputs\n",
    "num1 = int(input(\"Enter first number: \"))   \n",
    "num2 = int(input(\"Enter second number: \"))  \n",
    "num3 = int(input(\"Enter third number: \"))    \n",
    "num4 = int(input(\"Enter fourth number: \"))   \n",
    "num5 = int(input(\"Enter fifth number: \"))     \n",
    "\n",
    "number_list = [num1, num2, num3, num4, num5]\n",
    "ascending_order = sorted(number_list)  \n",
    "descending_order = sorted(number_list, reverse=True)  \n",
    "\n",
    "# printing results\n",
    "print(\"Numbers in ascending order:\", ascending_order)  \n",
    "print(\"Numbers in descending order:\", descending_order) \n"
   ]
  },
  {
   "cell_type": "code",
   "execution_count": null,
   "id": "5c00d785-a357-47fb-b779-56acb3684f87",
   "metadata": {},
   "outputs": [],
   "source": [
    "# EXERCISE 10: LIST SLICING\n",
    "#preparing a list\n",
    "numbers = ['1', '2', '3', '4', '5', '6', '7', '8', '9', '10']\n",
    "\n",
    "# printing first 5 items\n",
    "print(\"First five numbers:\", numbers[:5]) \n",
    "\n",
    "# printing the last five.\n",
    "print(\"Last five numbers:\", numbers[:-5])  \n",
    "\n",
    "#printing index 2 to 7\n",
    "print(\"Items from index 2 to 7:\", numbers[2:7])  \n"
   ]
  },
  {
   "cell_type": "code",
   "execution_count": null,
   "id": "f3d475fb-f563-4ef6-82b8-c0cedc293551",
   "metadata": {},
   "outputs": [],
   "source": [
    "# EXERCISE 11: NESTED LIST\n",
    "# Let's start by creating an empty list to hold all the student information.\n",
    "student_info = []\n",
    "\n",
    "def add_student_info():\n",
    "    for i in range(3):\n",
    "        name = input(\"Enter student name: \")\n",
    "        scores = [] \n",
    "\n",
    "        for j in range(3):\n",
    "            score = float(input(f\"Enter score for subject {j + 1}: \"))\n",
    "            scores.append(score)\n",
    "        student_info.append([name, scores])\n",
    "        print(scores)\n",
    "\n",
    "\n",
    "def print_scores():\n",
    "    for student in student_info:\n",
    "        print(f\"Student Name: {student[0]}\")  \n",
    "        print(f\"Scores: {student[1]}\") \n",
    "    average = sum(student[1]) / len(student[1])\n",
    "\n",
    "print(f\"Average Score: {average:.2f}\")\n",
    "print()  \n",
    "add_student_info()\n",
    "\n"
   ]
  }
 ],
 "metadata": {
  "kernelspec": {
   "display_name": "Python 3 (ipykernel)",
   "language": "python",
   "name": "python3"
  },
  "language_info": {
   "codemirror_mode": {
    "name": "ipython",
    "version": 3
   },
   "file_extension": ".py",
   "mimetype": "text/x-python",
   "name": "python",
   "nbconvert_exporter": "python",
   "pygments_lexer": "ipython3",
   "version": "3.12.4"
  }
 },
 "nbformat": 4,
 "nbformat_minor": 5
}
